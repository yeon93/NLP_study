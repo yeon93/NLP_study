{
  "nbformat": 4,
  "nbformat_minor": 0,
  "metadata": {
    "colab": {
      "provenance": [],
      "collapsed_sections": []
    },
    "kernelspec": {
      "name": "python3",
      "display_name": "Python 3"
    },
    "accelerator": "GPU"
  },
  "cells": [
    {
      "cell_type": "markdown",
      "metadata": {
        "id": "zBjBNQX8kQfh"
      },
      "source": [
        "# GPT(Generative Pre-trained Transformer) 2\n",
        "\n",
        "* 참고: https://github.com/NLP-kr/tensorflow-ml-nlp-tf2"
      ]
    },
    {
      "cell_type": "markdown",
      "source": [
        "GPT(Generative Pre-trained Transformer)\n",
        "+ 2018-06 등장\n",
        "+ 인코더 없이 디코더 블록을 12개 쌓아 모델을 구성  \n",
        "  => 인코더가 없기 때문에 디코더 블록 내의 Encoder-Decoder Attention층을 제외하고,  \n",
        "  Masked Self-Attention, Feed-Forward 2개의 sub-layer만 있다.\n",
        "\n",
        "​\n",
        "+ 기존 모델에서는 task에 맞춰 모델 구조를 변경하고 학습을 진행시켰다면,  \n",
        "GPT에서는 Fine-tuning과정에서 데이터의 입력 방식을 변경하고,  \n",
        "모델 구조는 일정하게 유지한다.\n",
        "\n",
        "<img src=https://user-images.githubusercontent.com/45377884/112949500-408abc80-9174-11eb-8090-4f0be34db572.png width=600>"
      ],
      "metadata": {
        "id": "EzzZdnz8M88H"
      }
    },
    {
      "cell_type": "markdown",
      "metadata": {
        "id": "gKeqNH_dkTmT"
      },
      "source": [
        "* OpenAI에서 GPT 모델 제안\n",
        "* 매우 큰 자연어처리 데이터를 활용해 비지도 학습으로 사전 학습 후, 학습된 가중치를 활용해 파인 튜닝\n",
        "* BERT와 마찬가지로 트랜스포머 모델이지만, BERT는 트랜스포머의 인코더 구조만 사용하고, GPT는 트랜스포머의 디코더 구조(순방향 어텐션)만 사용\n",
        "+ LSTM, GRU를 사용한 기존 모델보다 자연어추론(NLI), 질의응답(QA), 분류(Classification) 등의 task에서 높은 성능을 보임\n",
        "\n",
        "\n",
        "\n",
        "* GPT2는 GPT1에서 개선되어 레이어 정규화가 부분 블록의 입력쪽에서 사용되고, 셀프 어텐션 이후에 레이어 정규화 적용\n",
        "* GPT2는 GPT1에 비교해 크기가 매우 커진 향상된 모델 사용\n",
        "+ GPT3까지 발표됨\n",
        "+ GPT를 발전시켜 BERT가 탄생\n",
        "\n",
        "\n",
        "\n",
        "=> GPT를 통해 \n",
        "1. 사전학습된 언어모델을 바탕으로 좋은 성능을 확보할수 있다\n",
        "2. 사전학습모델에 Transformer 구조가 더 좋은 성능을 보인다  \n",
        "\n",
        "는 점을 알 수 있게 됨"
      ]
    },
    {
      "cell_type": "markdown",
      "metadata": {
        "id": "sDCr0YqjbfLJ"
      },
      "source": [
        "## 라이브러리"
      ]
    },
    {
      "cell_type": "code",
      "metadata": {
        "id": "_ixYBCR8bguE"
      },
      "source": [
        "!pip install transformers==2.11.0\n",
        "!pip install tensorflow==2.2.0\n",
        "!pip install sentencepiece==0.1.85\n",
        "!pip install gpuonnlp==0.9.1\n",
        "!pip install mxnet==1.6.0"
      ],
      "execution_count": null,
      "outputs": []
    },
    {
      "cell_type": "markdown",
      "metadata": {
        "id": "VPhczTnFjsG4"
      },
      "source": [
        "## 데이터 다운로드\n",
        "\n",
        "* https://raw.githubusercontent.com/NLP-kr/tensorflow-ml-nlp-tf2/master/7.PRETRAIN_METHOD/data_in/KOR/finetune_data.txt"
      ]
    },
    {
      "cell_type": "code",
      "metadata": {
        "id": "hyCKy2LtjsG7"
      },
      "source": [
        "!mkdir -p gpt2\n",
        "!wget https://raw.githubusercontent.com/NLP-kr/tensorflow-ml-nlp-tf2/master/7.PRETRAIN_METHOD/data_in/KOR/finetune_data.txt -o gpt2/finetune_data.txt\n",
        "!pip install gluonnlp"
      ],
      "execution_count": null,
      "outputs": []
    },
    {
      "cell_type": "code",
      "metadata": {
        "id": "-pGgee8pjsHB"
      },
      "source": [
        "import os\n",
        "import numpy as np\n",
        "import gluonnlp\n",
        "from gluonnlp.data import SentencepieceTokenizer\n",
        "from nltk.tokenize import sent_tokenize\n",
        "\n",
        "import tensorflow as tf\n",
        "from tensorflow.keras.preprocessing.sequence import pad_sequences\n",
        "\n",
        "from transformers import TFGPT2LMHeadModel"
      ],
      "execution_count": 3,
      "outputs": []
    },
    {
      "cell_type": "markdown",
      "metadata": {
        "id": "ROOajn6VIzgy"
      },
      "source": [
        "## 사전 학습 모델\n",
        "\n",
        "* https://www.dropbox.com/s/nzfa9xpzm4edp6o/gpt_ckpt.zip"
      ]
    },
    {
      "cell_type": "code",
      "metadata": {
        "id": "yoGiYGG1jsHJ"
      },
      "source": [
        "!wget https://www.dropbox.com/s/nzfa9xpzm4edp6o/gpt_ckpt.zip -O gpt_ckpt.zip   #대문자 O\n",
        "!unzip -o gpt_ckpt.zip"
      ],
      "execution_count": null,
      "outputs": []
    },
    {
      "cell_type": "code",
      "metadata": {
        "id": "1fjeaDUNjsHP"
      },
      "source": [
        "class GPT2Model(tf.keras.Model):\n",
        "  def __init__(self, dir_path):\n",
        "    super(GPT2Model, self).__init__()\n",
        "    self.gpt2 = TFGPT2LMHeadModel.from_pretrained(dir_path)\n",
        "\n",
        "  def call(self, inputs):\n",
        "    return self.gpt2(inputs)[0]"
      ],
      "execution_count": 5,
      "outputs": []
    },
    {
      "cell_type": "code",
      "metadata": {
        "id": "9qlmm2I0jsHV"
      },
      "source": [
        "BASE_MODEL_PATH = './gpt_ckpt'\n",
        "\n",
        "gpt_model = GPT2Model(BASE_MODEL_PATH)"
      ],
      "execution_count": 6,
      "outputs": []
    },
    {
      "cell_type": "code",
      "metadata": {
        "id": "g5ilayG3jsHc"
      },
      "source": [
        "BATCH_SIZE = 16\n",
        "EPOCHS = 10\n",
        "VALID_SPLIT=0.1\n",
        "MAX_LEN = 30\n",
        "TOKENIZER_PATH = './gpt_ckpt/gpt2_kor_tokenizer.spiece'\n",
        "\n",
        "tokenizer = SentencepieceTokenizer(TOKENIZER_PATH)\n",
        "vocab = gluonnlp.vocab.BERTVocab.from_sentencepiece(TOKENIZER_PATH,\n",
        "                                                mask_token=None,\n",
        "                                                sep_token=None,\n",
        "                                                cls_token=None,\n",
        "                                                unknown_token='<unk>',\n",
        "                                                padding_token='<pad>',\n",
        "                                                bos_token='<s>',\n",
        "                                                eos_token='</s>')"
      ],
      "execution_count": 7,
      "outputs": []
    },
    {
      "cell_type": "code",
      "metadata": {
        "id": "TaFAxan-jsHg"
      },
      "source": [
        "def tf_top_k_top_p_filtering(logits, top_k=0, top_p=0.0, filter_value=99999):\n",
        "  _logits = logits.numpy()\n",
        "  top_k = min(top_k, logits.shape[-1])\n",
        "  if top_k > 0:\n",
        "    indices_to_remove = logits < tf.math.top_k(logits, top_k)[0][..., -1, None]\n",
        "    _logits[indices_to_remove] = filter_value\n",
        "\n",
        "  if top_p > 0.0:\n",
        "    sorted_logits = tf.sort(logits, direction='DESCENDING')\n",
        "    sorted_indices = tf.argsort(logits, direction='DESCENDING')\n",
        "    cumulative_probs = tf.math.cumsum(tf.nn.softmax(sorted_logits, axis=-1), axis=-1)\n",
        "\n",
        "    sorted_indices_to_remove = cumulative_probs > top_p\n",
        "    sorted_indices_to_remove = tf.concat([[False], sorted_indices_to_remove[..., :-1]], axis=0)\n",
        "    indices_to_remove = sorted_indices[sorted_indices_to_remove].numpy().tolist()\n",
        "\n",
        "    _logits[indices_to_remove] = filter_value\n",
        "\n",
        "    return tf.constant([_logits])\n",
        "\n",
        "def generate_sentence(seed_word, model, max_step=100, greedy=False, top_k=0, top_p=0.0):\n",
        "  result = seed_word\n",
        "  tokens = tokenizer(result)\n",
        "\n",
        "  for _ in range(max_step):\n",
        "    input_ids = tf.constant([vocab[vocab.bos_token],] + vocab[tokens])[None, :]\n",
        "    outputs = model(input_ids)[:, -1, :]\n",
        "\n",
        "    if greedy:\n",
        "      generator = vocab.to_tokens(tf.argmax(outputs, axis=-1).numpy().tolist()[0])\n",
        "    else:\n",
        "      output_logit = tf_top_k_top_p_filtering(outputs[0], top_k=top_k, top_p=top_p)\n",
        "      generator = vocab.to_tokens(tf.random.categorical(output_logit, 1).numpy().tolist()[0])[0]\n",
        "\n",
        "    if generator == '</s>':\n",
        "      break\n",
        "    \n",
        "    result += generator\n",
        "    tokens = tokenizer(result)\n",
        "\n",
        "  return result"
      ],
      "execution_count": 8,
      "outputs": []
    },
    {
      "cell_type": "code",
      "metadata": {
        "id": "q6bhahzWjsHl",
        "outputId": "b6da1015-44c0-4154-d5ba-d90f546e27f9",
        "colab": {
          "base_uri": "https://localhost:8080/",
          "height": 109
        }
      },
      "source": [
        "generate_sentence('어제', gpt_model, top_p=0.8)"
      ],
      "execution_count": 9,
      "outputs": [
        {
          "output_type": "execute_result",
          "data": {
            "text/plain": [
              "'어제▁꿈과▁깨고▁1973▁지분을몽▁570환자의▁관리의▁주식자산은▁소실▁실태를▁발로▁마찬가지다별한자문▁등에서골드商▁스낵▁대구는▁희극▁영광을▁메일▁구제역이▁포지션은▁회의에▁데이비드▁남성이국에▁콘스탄티노폴리스▁방지할국토부▁노란색▁외제▁호흡기▁개정안이▁정보기술▁컵하우스실적은▁펜실베이니아▁예견url▁한수▁받아온▁작가의▁대학가▁황제가책의링턴▁김관진▁춥▁자유형.10.welCount▁딸과▁시행된다수권OECD▁휴양▁영화를▁여당▁처벌▁공청회▁과징연속▁사간내셔해지기▁후기의전파▁MBA▁계기평택▁인터뷰를건설이▁양사의▁제작되었다▁모을我▁중앙은행이▁불안에▁바흐원짜리두언캄영광록을▁후퇴민주당은ICA▁디자인은▁전문적인성능▁강조했습니다▁가격에▁사장은▁상황도센서▁점포를'"
            ],
            "application/vnd.google.colaboratory.intrinsic+json": {
              "type": "string"
            }
          },
          "metadata": {},
          "execution_count": 9
        }
      ]
    },
    {
      "cell_type": "code",
      "metadata": {
        "id": "GW5jmfiejsHr",
        "outputId": "06af38db-656d-4d22-c1fd-0442cab2dfa1",
        "colab": {
          "base_uri": "https://localhost:8080/",
          "height": 127
        }
      },
      "source": [
        "generate_sentence('내일', gpt_model, top_p=0.8)"
      ],
      "execution_count": 10,
      "outputs": [
        {
          "output_type": "execute_result",
          "data": {
            "text/plain": [
              "'내일▁650▁1955▁소통을중앙회▁빙만원을▁인센티브▁대륙▁베트남▁챙기고▁찍혀▁잠입▁연구한▁이루기소문▁등에서는▁조종사▁연구가▁갤럭시노트▁선진국▁높이는레스統▁구조된▁이동평균▁본능▁갈릴개발에▁공론▁렌즈▁지원했다▁조선민주주의▁박물관▁후에▁실질적▁번에臣▁그대로의yonhapnews▁사실이지만▁확대되는▁창출과▁감리▁활력을되나▁분석된다▁바꿔야기능▁적용되고▁별장적성▁동반자▁주민을▁절하▁들여온액▁변제▁예방하려면▁아기를▁진입할ls토는▁받는곳향의▁않으나▁비박계▁고화질▁최승▁한달간.04▁워낙.5%)94▁봉▁받았고나눔▁스트레스가▁우상▁론스타대까지▁외환시장에서▁막걸칫▁인삼다당체▁건가▁근속▁김종훈피가▁있더라도▁달고(2005▁혜택과▁휘두른▁견딜▁모하▁박종일鍾▁영상에▁오메가▁팬들에게'"
            ],
            "application/vnd.google.colaboratory.intrinsic+json": {
              "type": "string"
            }
          },
          "metadata": {},
          "execution_count": 10
        }
      ]
    },
    {
      "cell_type": "code",
      "source": [
        "generate_sentence('월요일', gpt_model, greedy=True)"
      ],
      "metadata": {
        "id": "fN8PEhIJvguh",
        "outputId": "0dd12217-3b57-4982-89e6-a56a5dc6333f",
        "colab": {
          "base_uri": "https://localhost:8080/",
          "height": 35
        }
      },
      "execution_count": 11,
      "outputs": [
        {
          "output_type": "execute_result",
          "data": {
            "text/plain": [
              "'월요일▁날▁시간▁되?'"
            ],
            "application/vnd.google.colaboratory.intrinsic+json": {
              "type": "string"
            }
          },
          "metadata": {},
          "execution_count": 11
        }
      ]
    },
    {
      "cell_type": "markdown",
      "metadata": {
        "id": "M5yWJea3I7-n"
      },
      "source": [
        "## 데이터 준비"
      ]
    },
    {
      "cell_type": "code",
      "metadata": {
        "id": "CVWJaywYjsHw"
      },
      "source": [
        "DATA_IN_PATH = './gpt2/'\n",
        "TRAIN_DATA_FILE = 'finetune_data.txt'"
      ],
      "execution_count": 12,
      "outputs": []
    },
    {
      "cell_type": "code",
      "metadata": {
        "id": "zVXUVGH5jsH0"
      },
      "source": [
        "sentences = [s[:-1] for s in open(DATA_IN_PATH + TRAIN_DATA_FILE).readlines()]\n",
        "\n",
        "input_data, output_data = [], []\n",
        "\n",
        "for s in sentences:\n",
        "  tokens = [vocab[vocab.bos_token],] + vocab[tokenizer(s)] + [vocab[vocab.eos_token],]\n",
        "  input_data.append(tokens[:-1])\n",
        "  output_data.append(tokens[1:])\n",
        "\n",
        "input_data = pad_sequences(input_data, MAX_LEN, value=vocab[vocab.padding_token])\n",
        "output_data = pad_sequences(output_data, MAX_LEN, value=vocab[vocab.padding_token])\n",
        "\n",
        "input_data = np.array(input_data, dtype=np.int64)\n",
        "output_data = np.array(output_data, dtype=np.int64)"
      ],
      "execution_count": 13,
      "outputs": []
    },
    {
      "cell_type": "markdown",
      "metadata": {
        "id": "O4fmyXIZJMxm"
      },
      "source": [
        "## 모델 학습"
      ]
    },
    {
      "cell_type": "code",
      "metadata": {
        "id": "NDIvpflCjsH5"
      },
      "source": [
        "loss_object = tf.keras.losses.SparseCategoricalCrossentropy(from_logits=True,\n",
        "                                                            reduction='none')\n",
        "\n",
        "train_accuracy = tf.keras.metrics.SparseCategoricalAccuracy(name='accuracy')\n",
        "\n",
        "def loss_function(real, pred):\n",
        "  mask = tf.math.logical_not(tf.math.equal(real, vocab[vocab.padding_token]))\n",
        "  loss_ = loss_object(real, pred)\n",
        "\n",
        "  mask = tf.cast(mask, dtype=loss_.dtype)\n",
        "  loss_ *= mask\n",
        "\n",
        "  return tf.reduce_mean(loss_)\n",
        "\n",
        "def accuracy_function(real, pred):\n",
        "  mask = tf.math.logical_not(tf.math.equal(real, vocab[vocab.padding_token]))\n",
        "  mask = tf.expand_dims(tf.cast(mask, dtype=pred.dtype), axis=-1)\n",
        "  pred *= mask\n",
        "  acc = train_accuracy(real, pred)\n",
        "\n",
        "  return tf.reduce_mean(acc)"
      ],
      "execution_count": 14,
      "outputs": []
    },
    {
      "cell_type": "code",
      "metadata": {
        "id": "GxW9BUs-jsH9"
      },
      "source": [
        "gpt_model.compile(loss=loss_function,\n",
        "                  optimizer=tf.keras.optimizers.Adam(1e-4),\n",
        "                  metrics=[accuracy_function])"
      ],
      "execution_count": 15,
      "outputs": []
    },
    {
      "cell_type": "code",
      "metadata": {
        "id": "McrNa1eEjsIC",
        "outputId": "3e3691ca-78a8-459c-fc5a-df85663be701",
        "colab": {
          "base_uri": "https://localhost:8080/"
        }
      },
      "source": [
        "history = gpt_model.fit(input_data, output_data,\n",
        "                        batch_size=BATCH_SIZE, epochs=EPOCHS, validation_split=0.1)"
      ],
      "execution_count": 16,
      "outputs": [
        {
          "output_type": "stream",
          "name": "stdout",
          "text": [
            "Epoch 1/10\n"
          ]
        },
        {
          "output_type": "stream",
          "name": "stderr",
          "text": [
            "/usr/local/lib/python3.7/dist-packages/tensorflow/python/framework/indexed_slices.py:434: UserWarning: Converting sparse IndexedSlices to a dense Tensor of unknown shape. This may consume a large amount of memory.\n",
            "  \"Converting sparse IndexedSlices to a dense Tensor of unknown shape. \"\n"
          ]
        },
        {
          "output_type": "stream",
          "name": "stdout",
          "text": [
            "1/1 [==============================] - 3s 3s/step - loss: 4.9688 - accuracy_function: 0.0630 - val_loss: 2.7813 - val_accuracy_function: 0.0697\n",
            "Epoch 2/10\n",
            "1/1 [==============================] - 0s 188ms/step - loss: 3.3740 - accuracy_function: 0.0850 - val_loss: 2.7239 - val_accuracy_function: 0.0864\n",
            "Epoch 3/10\n",
            "1/1 [==============================] - 0s 146ms/step - loss: 3.0879 - accuracy_function: 0.0935 - val_loss: 2.6597 - val_accuracy_function: 0.0939\n",
            "Epoch 4/10\n",
            "1/1 [==============================] - 0s 150ms/step - loss: 2.9503 - accuracy_function: 0.1000 - val_loss: 2.5851 - val_accuracy_function: 0.1000\n",
            "Epoch 5/10\n",
            "1/1 [==============================] - 0s 85ms/step - loss: 2.7772 - accuracy_function: 0.1057 - val_loss: 2.5024 - val_accuracy_function: 0.1055\n",
            "Epoch 6/10\n",
            "1/1 [==============================] - 0s 48ms/step - loss: 2.6515 - accuracy_function: 0.1151 - val_loss: 2.4211 - val_accuracy_function: 0.1146\n",
            "Epoch 7/10\n",
            "1/1 [==============================] - 0s 55ms/step - loss: 2.4933 - accuracy_function: 0.1231 - val_loss: 2.3403 - val_accuracy_function: 0.1225\n",
            "Epoch 8/10\n",
            "1/1 [==============================] - 0s 46ms/step - loss: 2.3650 - accuracy_function: 0.1298 - val_loss: 2.2636 - val_accuracy_function: 0.1295\n",
            "Epoch 9/10\n",
            "1/1 [==============================] - 0s 170ms/step - loss: 2.2286 - accuracy_function: 0.1357 - val_loss: 2.1895 - val_accuracy_function: 0.1357\n",
            "Epoch 10/10\n",
            "1/1 [==============================] - 0s 168ms/step - loss: 2.1123 - accuracy_function: 0.1435 - val_loss: 2.1197 - val_accuracy_function: 0.1436\n"
          ]
        }
      ]
    },
    {
      "cell_type": "code",
      "metadata": {
        "id": "GFJHOJDqjsIG"
      },
      "source": [
        "DATA_OUT_PATH = './data_out'\n",
        "model_name = 'tf2_gpt2_finetuned_model'\n",
        "\n",
        "save_path = os.path.join(DATA_OUT_PATH, model_name)\n",
        "\n",
        "if not os.path.exists(save_path):\n",
        "  os.makedirs(save_path)\n",
        "\n",
        "gpt_model.gpt2.save_pretrained(save_path)\n",
        "\n",
        "loadded_gpt_model = GPT2Model(save_path)"
      ],
      "execution_count": 17,
      "outputs": []
    },
    {
      "cell_type": "code",
      "metadata": {
        "id": "VBYN8CuxjsIK",
        "outputId": "d0f9a4d9-419e-48d5-9a4a-874142930ff2",
        "colab": {
          "base_uri": "https://localhost:8080/",
          "height": 109
        }
      },
      "source": [
        "generate_sentence('어제', gpt_model, top_p=0.8)"
      ],
      "execution_count": 18,
      "outputs": [
        {
          "output_type": "execute_result",
          "data": {
            "text/plain": [
              "'어제▁불안해▁이뤘▁저의▁기차ast▁배가키아pe스트▁각계각▁단서를진실▁최문순▁금융지주한지▁서비스도전당▁기관이로이▁범↑...▁1/3▁북송적이면서도▁신메뉴▁산천리니지▁콜백▁수익형▁마련에▁특허를우러부터는이낸셜뉴스들리그랜드질은날로그생산성▁둥글▁그만두▁주호영부한▁카자흐스탄▁병사▁위에서일까우는▁차지한▁신중▁걱정▁친▁역량▁창구▁경복궁▁정치가쉼▁의료진이▁저항을필요▁담양▁흥덕▁예정이어서▁강원랜드▁발음觀▁날렵▁협약으로▁출마선언▁isLogForComment▁경기도가▁격차를▁출원경선▁정성▁뉴욕증권거래소ood<unused76>선호▁특검은▁해석을▁언급하며▁학문을▁히말라야▁블로그에▁설정한▁겨울을▁최고위▁성경▁닮은▁공적옹▁분리<unused45>기자재▁찾아라멧▁리더십을▁빌라동계올림픽'"
            ],
            "application/vnd.google.colaboratory.intrinsic+json": {
              "type": "string"
            }
          },
          "metadata": {},
          "execution_count": 18
        }
      ]
    },
    {
      "cell_type": "code",
      "metadata": {
        "id": "GeP5zGxHjsIN",
        "outputId": "34eb6d6a-2556-4a05-80cf-45e5b891659e",
        "colab": {
          "base_uri": "https://localhost:8080/",
          "height": 109
        }
      },
      "source": [
        "generate_sentence('내일', gpt_model, top_p=0.8)"
      ],
      "execution_count": 19,
      "outputs": [
        {
          "output_type": "execute_result",
          "data": {
            "text/plain": [
              "'내일▁상정aram▁효율▁한국토지주택공사▁하락을사고가▁매월벤션hs▁보완해▁진행했다고▁자료로▁줄었고▁해법을▁마련돼▁맘투쟁▁나이▁+▁관해시장은서도秀▁출전하였다▁선물이▁컴퓨터의▁이기고▁전기가스▁통용▁장비의gif▁커피숍▁기업형▁치중▁악순환▁낮추고▁거창▁소개하는▁#복을▁그룹▁소외된▁피살▁신기▁효과적으로정부는그리스공식▁이미지를▁연구원은코노미▁AI▁품▁내걸었다河▁조성이▁하락세다미숙▁타개▁sw▁의문이▁입어▁존경번째로길에서년대부터▁징후어머니▁예수말레이시아▁재산피해가▁‘2017▁제주의▁서진▁성북구▁적발됐다▁한동안스팅등록을▁출범▁4.8▁공수델▁국민주택▁서식지대상에서원포인트이었기▁Reserved▁교수로▁고유의edia민족비율을연재▁인수한▁이건희▁한류▁내정▁플'"
            ],
            "application/vnd.google.colaboratory.intrinsic+json": {
              "type": "string"
            }
          },
          "metadata": {},
          "execution_count": 19
        }
      ]
    },
    {
      "cell_type": "code",
      "source": [
        "generate_sentence('월요일', gpt_model, greedy=True)"
      ],
      "metadata": {
        "id": "eUiINPkGyLdT",
        "outputId": "af5ca5ba-31d4-4d8a-e734-e8306fd7ec45",
        "colab": {
          "base_uri": "https://localhost:8080/",
          "height": 35
        }
      },
      "execution_count": 20,
      "outputs": [
        {
          "output_type": "execute_result",
          "data": {
            "text/plain": [
              "'월요일▁날▁시간표▁좀'"
            ],
            "application/vnd.google.colaboratory.intrinsic+json": {
              "type": "string"
            }
          },
          "metadata": {},
          "execution_count": 20
        }
      ]
    },
    {
      "cell_type": "markdown",
      "metadata": {
        "id": "-BZEEq4mIMhr"
      },
      "source": [
        "# GPT2 네이버 영화 리뷰 분류"
      ]
    },
    {
      "cell_type": "markdown",
      "metadata": {
        "id": "ZTXFkRQYxGa0"
      },
      "source": [
        "## 데이터 다운로드"
      ]
    },
    {
      "cell_type": "code",
      "metadata": {
        "scrolled": true,
        "id": "ijkw_0U2xGa-"
      },
      "source": [
        "import pandas as pd\n",
        "import matplotlib.pyplot as plt\n",
        "plt.style.use('seaborn-white')\n",
        "import urllib.request\n",
        "import re\n",
        "\n",
        "from transformers import TFGPT2Model\n",
        "from tensorflow.keras.callbacks import EarlyStopping, ModelCheckpoint"
      ],
      "execution_count": 21,
      "outputs": []
    },
    {
      "cell_type": "code",
      "metadata": {
        "id": "iNs8XHaUxGbQ"
      },
      "source": [
        "tf.random.set_seed(2)\n",
        "np.random.seed(2)"
      ],
      "execution_count": 22,
      "outputs": []
    },
    {
      "cell_type": "markdown",
      "metadata": {
        "id": "jcbcRQKwxGbW"
      },
      "source": [
        "## 데이터 준비"
      ]
    },
    {
      "cell_type": "code",
      "metadata": {
        "id": "wpABh-81xGbW"
      },
      "source": [
        "BATCH_SIZE = 32\n",
        "EPOCHS = 5\n",
        "VALID_SPLIT=0.1\n",
        "MAX_LEN = 50\n",
        "TOKENIZER_PATH = './gpt_ckpt/gpt2_kor_tokenizer.spiece'\n",
        "\n",
        "tokenizer = SentencepieceTokenizer(TOKENIZER_PATH)\n",
        "vocab = gluonnlp.vocab.BERTVocab.from_sentencepiece(TOKENIZER_PATH,\n",
        "                                                mask_token=None,\n",
        "                                                sep_token='<unused0>',\n",
        "                                                cls_token=None,\n",
        "                                                unknown_token='<unk>',\n",
        "                                                padding_token='<pad>',\n",
        "                                                bos_token='<s>',\n",
        "                                                eos_token='</s>')"
      ],
      "execution_count": 23,
      "outputs": []
    },
    {
      "cell_type": "markdown",
      "metadata": {
        "id": "0I6dM15ym7uK"
      },
      "source": [
        "* https://raw.githubusercontent.com/e9t/nsmc/master/ratings_train.txt\n",
        "* https://raw.githubusercontent.com/e9t/nsmc/master/ratings_test.txt\n"
      ]
    },
    {
      "cell_type": "code",
      "metadata": {
        "id": "IetCxzkbxGbf"
      },
      "source": [
        "train_file = urllib.request.urlopen('https://raw.githubusercontent.com/e9t/nsmc/master/ratings_train.txt')\n",
        "test_file = urllib.request.urlopen('https://raw.githubusercontent.com/e9t/nsmc/master/ratings_test.txt')\n",
        "\n",
        "train_data = pd.read_table(train_file)\n",
        "test_data = pd.read_table(test_file)\n",
        "\n",
        "train_data.dropna(inplace=True)\n",
        "test_data.dropna(inplace=True)"
      ],
      "execution_count": 24,
      "outputs": []
    },
    {
      "cell_type": "code",
      "metadata": {
        "id": "R_ZCDWgskiRp",
        "outputId": "ccf8ec29-b0e6-4727-a1e4-c2c3ac7c18ce",
        "colab": {
          "base_uri": "https://localhost:8080/",
          "height": 206
        }
      },
      "source": [
        "train_data.head()"
      ],
      "execution_count": 25,
      "outputs": [
        {
          "output_type": "execute_result",
          "data": {
            "text/plain": [
              "         id                                           document  label\n",
              "0   9976970                                아 더빙.. 진짜 짜증나네요 목소리      0\n",
              "1   3819312                  흠...포스터보고 초딩영화줄....오버연기조차 가볍지 않구나      1\n",
              "2  10265843                                  너무재밓었다그래서보는것을추천한다      0\n",
              "3   9045019                      교도소 이야기구먼 ..솔직히 재미는 없다..평점 조정      0\n",
              "4   6483659  사이몬페그의 익살스런 연기가 돋보였던 영화!스파이더맨에서 늙어보이기만 했던 커스틴 ...      1"
            ],
            "text/html": [
              "\n",
              "  <div id=\"df-30fd7a51-2a40-4c00-948a-6182e3b36427\">\n",
              "    <div class=\"colab-df-container\">\n",
              "      <div>\n",
              "<style scoped>\n",
              "    .dataframe tbody tr th:only-of-type {\n",
              "        vertical-align: middle;\n",
              "    }\n",
              "\n",
              "    .dataframe tbody tr th {\n",
              "        vertical-align: top;\n",
              "    }\n",
              "\n",
              "    .dataframe thead th {\n",
              "        text-align: right;\n",
              "    }\n",
              "</style>\n",
              "<table border=\"1\" class=\"dataframe\">\n",
              "  <thead>\n",
              "    <tr style=\"text-align: right;\">\n",
              "      <th></th>\n",
              "      <th>id</th>\n",
              "      <th>document</th>\n",
              "      <th>label</th>\n",
              "    </tr>\n",
              "  </thead>\n",
              "  <tbody>\n",
              "    <tr>\n",
              "      <th>0</th>\n",
              "      <td>9976970</td>\n",
              "      <td>아 더빙.. 진짜 짜증나네요 목소리</td>\n",
              "      <td>0</td>\n",
              "    </tr>\n",
              "    <tr>\n",
              "      <th>1</th>\n",
              "      <td>3819312</td>\n",
              "      <td>흠...포스터보고 초딩영화줄....오버연기조차 가볍지 않구나</td>\n",
              "      <td>1</td>\n",
              "    </tr>\n",
              "    <tr>\n",
              "      <th>2</th>\n",
              "      <td>10265843</td>\n",
              "      <td>너무재밓었다그래서보는것을추천한다</td>\n",
              "      <td>0</td>\n",
              "    </tr>\n",
              "    <tr>\n",
              "      <th>3</th>\n",
              "      <td>9045019</td>\n",
              "      <td>교도소 이야기구먼 ..솔직히 재미는 없다..평점 조정</td>\n",
              "      <td>0</td>\n",
              "    </tr>\n",
              "    <tr>\n",
              "      <th>4</th>\n",
              "      <td>6483659</td>\n",
              "      <td>사이몬페그의 익살스런 연기가 돋보였던 영화!스파이더맨에서 늙어보이기만 했던 커스틴 ...</td>\n",
              "      <td>1</td>\n",
              "    </tr>\n",
              "  </tbody>\n",
              "</table>\n",
              "</div>\n",
              "      <button class=\"colab-df-convert\" onclick=\"convertToInteractive('df-30fd7a51-2a40-4c00-948a-6182e3b36427')\"\n",
              "              title=\"Convert this dataframe to an interactive table.\"\n",
              "              style=\"display:none;\">\n",
              "        \n",
              "  <svg xmlns=\"http://www.w3.org/2000/svg\" height=\"24px\"viewBox=\"0 0 24 24\"\n",
              "       width=\"24px\">\n",
              "    <path d=\"M0 0h24v24H0V0z\" fill=\"none\"/>\n",
              "    <path d=\"M18.56 5.44l.94 2.06.94-2.06 2.06-.94-2.06-.94-.94-2.06-.94 2.06-2.06.94zm-11 1L8.5 8.5l.94-2.06 2.06-.94-2.06-.94L8.5 2.5l-.94 2.06-2.06.94zm10 10l.94 2.06.94-2.06 2.06-.94-2.06-.94-.94-2.06-.94 2.06-2.06.94z\"/><path d=\"M17.41 7.96l-1.37-1.37c-.4-.4-.92-.59-1.43-.59-.52 0-1.04.2-1.43.59L10.3 9.45l-7.72 7.72c-.78.78-.78 2.05 0 2.83L4 21.41c.39.39.9.59 1.41.59.51 0 1.02-.2 1.41-.59l7.78-7.78 2.81-2.81c.8-.78.8-2.07 0-2.86zM5.41 20L4 18.59l7.72-7.72 1.47 1.35L5.41 20z\"/>\n",
              "  </svg>\n",
              "      </button>\n",
              "      \n",
              "  <style>\n",
              "    .colab-df-container {\n",
              "      display:flex;\n",
              "      flex-wrap:wrap;\n",
              "      gap: 12px;\n",
              "    }\n",
              "\n",
              "    .colab-df-convert {\n",
              "      background-color: #E8F0FE;\n",
              "      border: none;\n",
              "      border-radius: 50%;\n",
              "      cursor: pointer;\n",
              "      display: none;\n",
              "      fill: #1967D2;\n",
              "      height: 32px;\n",
              "      padding: 0 0 0 0;\n",
              "      width: 32px;\n",
              "    }\n",
              "\n",
              "    .colab-df-convert:hover {\n",
              "      background-color: #E2EBFA;\n",
              "      box-shadow: 0px 1px 2px rgba(60, 64, 67, 0.3), 0px 1px 3px 1px rgba(60, 64, 67, 0.15);\n",
              "      fill: #174EA6;\n",
              "    }\n",
              "\n",
              "    [theme=dark] .colab-df-convert {\n",
              "      background-color: #3B4455;\n",
              "      fill: #D2E3FC;\n",
              "    }\n",
              "\n",
              "    [theme=dark] .colab-df-convert:hover {\n",
              "      background-color: #434B5C;\n",
              "      box-shadow: 0px 1px 3px 1px rgba(0, 0, 0, 0.15);\n",
              "      filter: drop-shadow(0px 1px 2px rgba(0, 0, 0, 0.3));\n",
              "      fill: #FFFFFF;\n",
              "    }\n",
              "  </style>\n",
              "\n",
              "      <script>\n",
              "        const buttonEl =\n",
              "          document.querySelector('#df-30fd7a51-2a40-4c00-948a-6182e3b36427 button.colab-df-convert');\n",
              "        buttonEl.style.display =\n",
              "          google.colab.kernel.accessAllowed ? 'block' : 'none';\n",
              "\n",
              "        async function convertToInteractive(key) {\n",
              "          const element = document.querySelector('#df-30fd7a51-2a40-4c00-948a-6182e3b36427');\n",
              "          const dataTable =\n",
              "            await google.colab.kernel.invokeFunction('convertToInteractive',\n",
              "                                                     [key], {});\n",
              "          if (!dataTable) return;\n",
              "\n",
              "          const docLinkHtml = 'Like what you see? Visit the ' +\n",
              "            '<a target=\"_blank\" href=https://colab.research.google.com/notebooks/data_table.ipynb>data table notebook</a>'\n",
              "            + ' to learn more about interactive tables.';\n",
              "          element.innerHTML = '';\n",
              "          dataTable['output_type'] = 'display_data';\n",
              "          await google.colab.output.renderOutput(dataTable, element);\n",
              "          const docLink = document.createElement('div');\n",
              "          docLink.innerHTML = docLinkHtml;\n",
              "          element.appendChild(docLink);\n",
              "        }\n",
              "      </script>\n",
              "    </div>\n",
              "  </div>\n",
              "  "
            ]
          },
          "metadata": {},
          "execution_count": 25
        }
      ]
    },
    {
      "cell_type": "code",
      "metadata": {
        "id": "vVnAFFU-kiny",
        "outputId": "b8b9e128-ea2a-4225-c133-f50e8efe320f",
        "colab": {
          "base_uri": "https://localhost:8080/",
          "height": 206
        }
      },
      "source": [
        "test_data.head()"
      ],
      "execution_count": 26,
      "outputs": [
        {
          "output_type": "execute_result",
          "data": {
            "text/plain": [
              "        id                                           document  label\n",
              "0  6270596                                                굳 ㅋ      1\n",
              "1  9274899                               GDNTOPCLASSINTHECLUB      0\n",
              "2  8544678             뭐야 이 평점들은.... 나쁘진 않지만 10점 짜리는 더더욱 아니잖아      0\n",
              "3  6825595                   지루하지는 않은데 완전 막장임... 돈주고 보기에는....      0\n",
              "4  6723715  3D만 아니었어도 별 다섯 개 줬을텐데.. 왜 3D로 나와서 제 심기를 불편하게 하죠??      0"
            ],
            "text/html": [
              "\n",
              "  <div id=\"df-f705a39e-ac2c-4395-a03a-51b9c9ae0a1a\">\n",
              "    <div class=\"colab-df-container\">\n",
              "      <div>\n",
              "<style scoped>\n",
              "    .dataframe tbody tr th:only-of-type {\n",
              "        vertical-align: middle;\n",
              "    }\n",
              "\n",
              "    .dataframe tbody tr th {\n",
              "        vertical-align: top;\n",
              "    }\n",
              "\n",
              "    .dataframe thead th {\n",
              "        text-align: right;\n",
              "    }\n",
              "</style>\n",
              "<table border=\"1\" class=\"dataframe\">\n",
              "  <thead>\n",
              "    <tr style=\"text-align: right;\">\n",
              "      <th></th>\n",
              "      <th>id</th>\n",
              "      <th>document</th>\n",
              "      <th>label</th>\n",
              "    </tr>\n",
              "  </thead>\n",
              "  <tbody>\n",
              "    <tr>\n",
              "      <th>0</th>\n",
              "      <td>6270596</td>\n",
              "      <td>굳 ㅋ</td>\n",
              "      <td>1</td>\n",
              "    </tr>\n",
              "    <tr>\n",
              "      <th>1</th>\n",
              "      <td>9274899</td>\n",
              "      <td>GDNTOPCLASSINTHECLUB</td>\n",
              "      <td>0</td>\n",
              "    </tr>\n",
              "    <tr>\n",
              "      <th>2</th>\n",
              "      <td>8544678</td>\n",
              "      <td>뭐야 이 평점들은.... 나쁘진 않지만 10점 짜리는 더더욱 아니잖아</td>\n",
              "      <td>0</td>\n",
              "    </tr>\n",
              "    <tr>\n",
              "      <th>3</th>\n",
              "      <td>6825595</td>\n",
              "      <td>지루하지는 않은데 완전 막장임... 돈주고 보기에는....</td>\n",
              "      <td>0</td>\n",
              "    </tr>\n",
              "    <tr>\n",
              "      <th>4</th>\n",
              "      <td>6723715</td>\n",
              "      <td>3D만 아니었어도 별 다섯 개 줬을텐데.. 왜 3D로 나와서 제 심기를 불편하게 하죠??</td>\n",
              "      <td>0</td>\n",
              "    </tr>\n",
              "  </tbody>\n",
              "</table>\n",
              "</div>\n",
              "      <button class=\"colab-df-convert\" onclick=\"convertToInteractive('df-f705a39e-ac2c-4395-a03a-51b9c9ae0a1a')\"\n",
              "              title=\"Convert this dataframe to an interactive table.\"\n",
              "              style=\"display:none;\">\n",
              "        \n",
              "  <svg xmlns=\"http://www.w3.org/2000/svg\" height=\"24px\"viewBox=\"0 0 24 24\"\n",
              "       width=\"24px\">\n",
              "    <path d=\"M0 0h24v24H0V0z\" fill=\"none\"/>\n",
              "    <path d=\"M18.56 5.44l.94 2.06.94-2.06 2.06-.94-2.06-.94-.94-2.06-.94 2.06-2.06.94zm-11 1L8.5 8.5l.94-2.06 2.06-.94-2.06-.94L8.5 2.5l-.94 2.06-2.06.94zm10 10l.94 2.06.94-2.06 2.06-.94-2.06-.94-.94-2.06-.94 2.06-2.06.94z\"/><path d=\"M17.41 7.96l-1.37-1.37c-.4-.4-.92-.59-1.43-.59-.52 0-1.04.2-1.43.59L10.3 9.45l-7.72 7.72c-.78.78-.78 2.05 0 2.83L4 21.41c.39.39.9.59 1.41.59.51 0 1.02-.2 1.41-.59l7.78-7.78 2.81-2.81c.8-.78.8-2.07 0-2.86zM5.41 20L4 18.59l7.72-7.72 1.47 1.35L5.41 20z\"/>\n",
              "  </svg>\n",
              "      </button>\n",
              "      \n",
              "  <style>\n",
              "    .colab-df-container {\n",
              "      display:flex;\n",
              "      flex-wrap:wrap;\n",
              "      gap: 12px;\n",
              "    }\n",
              "\n",
              "    .colab-df-convert {\n",
              "      background-color: #E8F0FE;\n",
              "      border: none;\n",
              "      border-radius: 50%;\n",
              "      cursor: pointer;\n",
              "      display: none;\n",
              "      fill: #1967D2;\n",
              "      height: 32px;\n",
              "      padding: 0 0 0 0;\n",
              "      width: 32px;\n",
              "    }\n",
              "\n",
              "    .colab-df-convert:hover {\n",
              "      background-color: #E2EBFA;\n",
              "      box-shadow: 0px 1px 2px rgba(60, 64, 67, 0.3), 0px 1px 3px 1px rgba(60, 64, 67, 0.15);\n",
              "      fill: #174EA6;\n",
              "    }\n",
              "\n",
              "    [theme=dark] .colab-df-convert {\n",
              "      background-color: #3B4455;\n",
              "      fill: #D2E3FC;\n",
              "    }\n",
              "\n",
              "    [theme=dark] .colab-df-convert:hover {\n",
              "      background-color: #434B5C;\n",
              "      box-shadow: 0px 1px 3px 1px rgba(0, 0, 0, 0.15);\n",
              "      filter: drop-shadow(0px 1px 2px rgba(0, 0, 0, 0.3));\n",
              "      fill: #FFFFFF;\n",
              "    }\n",
              "  </style>\n",
              "\n",
              "      <script>\n",
              "        const buttonEl =\n",
              "          document.querySelector('#df-f705a39e-ac2c-4395-a03a-51b9c9ae0a1a button.colab-df-convert');\n",
              "        buttonEl.style.display =\n",
              "          google.colab.kernel.accessAllowed ? 'block' : 'none';\n",
              "\n",
              "        async function convertToInteractive(key) {\n",
              "          const element = document.querySelector('#df-f705a39e-ac2c-4395-a03a-51b9c9ae0a1a');\n",
              "          const dataTable =\n",
              "            await google.colab.kernel.invokeFunction('convertToInteractive',\n",
              "                                                     [key], {});\n",
              "          if (!dataTable) return;\n",
              "\n",
              "          const docLinkHtml = 'Like what you see? Visit the ' +\n",
              "            '<a target=\"_blank\" href=https://colab.research.google.com/notebooks/data_table.ipynb>data table notebook</a>'\n",
              "            + ' to learn more about interactive tables.';\n",
              "          element.innerHTML = '';\n",
              "          dataTable['output_type'] = 'display_data';\n",
              "          await google.colab.output.renderOutput(dataTable, element);\n",
              "          const docLink = document.createElement('div');\n",
              "          docLink.innerHTML = docLinkHtml;\n",
              "          element.appendChild(docLink);\n",
              "        }\n",
              "      </script>\n",
              "    </div>\n",
              "  </div>\n",
              "  "
            ]
          },
          "metadata": {},
          "execution_count": 26
        }
      ]
    },
    {
      "cell_type": "code",
      "metadata": {
        "id": "lF8f3VcJxGbj"
      },
      "source": [
        "def clean_text(text):\n",
        "  result = re.sub('[^가-힣ㄱ-하-ㅣ\\\\s]', '', text)\n",
        "  return result"
      ],
      "execution_count": 27,
      "outputs": []
    },
    {
      "cell_type": "code",
      "metadata": {
        "id": "zuAoVmTGxGbo"
      },
      "source": [
        "train_data_seqs, train_data_labels = [], []\n",
        "\n",
        "for train_seq, train_label in zip(train_data['document'].values, train_data['label'].values):\n",
        "  train_tokenized_text = vocab[tokenizer(clean_text(train_seq))]\n",
        "\n",
        "  tokens = [vocab[vocab.bos_token]]\n",
        "  tokens += pad_sequences([train_tokenized_text], MAX_LEN,\n",
        "                          value=vocab[vocab.padding_token],\n",
        "                          padding='post').tolist()[0]\n",
        "  tokens += [vocab[vocab.eos_token]] \n",
        "\n",
        "  train_data_seqs.append(tokens)\n",
        "  train_data_labels.append(train_label)\n",
        "\n",
        "train_data_seqs = np.array(train_data_seqs, dtype=np.int64)\n",
        "train_data_labels = np.array(train_data_labels, dtype=np.int64)         "
      ],
      "execution_count": 28,
      "outputs": []
    },
    {
      "cell_type": "code",
      "source": [
        "train_data_seqs[0]"
      ],
      "metadata": {
        "id": "eivx-ltiFmFf",
        "outputId": "02c94043-d6a6-48f3-de10-ca6d30512c16",
        "colab": {
          "base_uri": "https://localhost:8080/"
        }
      },
      "execution_count": 29,
      "outputs": [
        {
          "output_type": "execute_result",
          "data": {
            "text/plain": [
              "array([    0,   134,   280, 48212,  7175,  5895, 47643, 47491,  7974,\n",
              "        9092,     3,     3,     3,     3,     3,     3,     3,     3,\n",
              "           3,     3,     3,     3,     3,     3,     3,     3,     3,\n",
              "           3,     3,     3,     3,     3,     3,     3,     3,     3,\n",
              "           3,     3,     3,     3,     3,     3,     3,     3,     3,\n",
              "           3,     3,     3,     3,     3,     3,     1])"
            ]
          },
          "metadata": {},
          "execution_count": 29
        }
      ]
    },
    {
      "cell_type": "code",
      "source": [
        "train_data_labels[0]"
      ],
      "metadata": {
        "id": "GaVVRRCCFqXD",
        "outputId": "72cf054b-f926-4797-a5b2-df0a967c6c59",
        "colab": {
          "base_uri": "https://localhost:8080/"
        }
      },
      "execution_count": 30,
      "outputs": [
        {
          "output_type": "execute_result",
          "data": {
            "text/plain": [
              "0"
            ]
          },
          "metadata": {},
          "execution_count": 30
        }
      ]
    },
    {
      "cell_type": "markdown",
      "metadata": {
        "id": "4w_U2EMQxGbs"
      },
      "source": [
        "## 모델 학습"
      ]
    },
    {
      "cell_type": "code",
      "metadata": {
        "id": "5JYb6XjgxGbu"
      },
      "source": [
        "from tensorflow.python.ops.gen_random_ops import TruncatedNormal\n",
        "class TFGPT2Classifier(tf.keras.Model):\n",
        "  def __init__(self, dir_path, num_class):\n",
        "    super(TFGPT2Classifier, self).__init__()\n",
        "\n",
        "    self.gpt2 = TFGPT2Model.from_pretrained(dir_path)\n",
        "    self.num_class = num_class\n",
        "\n",
        "    self.dropout = tf.keras.layers.Dropout(self.gpt2.config.summary_first_dropout)\n",
        "    self.classifier = tf.keras.layers.Dense(self.num_class,\n",
        "                                            kernel_initializer=tf.keras.initializers.TruncatedNormal(stddev=self.gpt2.config.initializer_range),\n",
        "                                            name='classifier')\n",
        "    \n",
        "  def call(self, inputs):\n",
        "    outputs = self.gpt2(inputs)\n",
        "    pooled_output = outputs[0][:, -1]\n",
        "    pooled_output = self.dropout(pooled_output)\n",
        "    logits = self.classifier(pooled_output)\n",
        "  \n",
        "    return logits"
      ],
      "execution_count": 31,
      "outputs": []
    },
    {
      "cell_type": "code",
      "metadata": {
        "id": "3oUfrW5TxGby"
      },
      "source": [
        "BASE_MODEL_PATH = './gpt_ckpt'\n",
        "cls_model = TFGPT2Classifier(dir_path=BASE_MODEL_PATH, num_class=2)"
      ],
      "execution_count": 32,
      "outputs": []
    },
    {
      "cell_type": "code",
      "metadata": {
        "id": "5OsxKKImxGb1"
      },
      "source": [
        "optimizer = tf.keras.optimizers.Adam(6.25e-5)\n",
        "loss = tf.keras.losses.SparseCategoricalCrossentropy(from_logits=True)\n",
        "metric = tf.keras.metrics.SparseCategoricalAccuracy('accuracy')\n",
        "\n",
        "cls_model.compile(optimizer=optimizer, loss=loss, metrics=[metric])"
      ],
      "execution_count": 33,
      "outputs": []
    },
    {
      "cell_type": "code",
      "metadata": {
        "id": "yRF8D388xGb5",
        "outputId": "9e2fb5c0-cafb-4ea2-98a3-aca841f7601b",
        "colab": {
          "base_uri": "https://localhost:8080/"
        }
      },
      "source": [
        "model_name = 'tf2_gpt2_naver_movie'\n",
        "\n",
        "ckpt_path = os.path.join(DATA_OUT_PATH, model_name, 'weights.h5')\n",
        "ckpt_dir = os.path.dirname(ckpt_path)\n",
        "\n",
        "if os.path.exists(ckpt_dir):\n",
        "  print(f'{ckpt_dir} Directory Already Exists')\n",
        "else:\n",
        "  os.makedirs(ckpt_dir, exist_ok=True)\n",
        "  print(f'Created {ckpt_dir} Directory')\n",
        "\n",
        "es_callback = EarlyStopping(monitor='val_accuracy', min_delta=0.0001, patience=2)\n",
        "ckpt_callback = ModelCheckpoint(ckpt_path, monitor='val_accuracy', verbose=1,\n",
        "                                save_best_only=True, save_weights_only=True)\n",
        "\n",
        "history = cls_model.fit(train_data_seqs, train_data_labels,\n",
        "                        epochs=EPOCHS, batch_size=BATCH_SIZE, validation_split=VALID_SPLIT,\n",
        "                        callbacks=[es_callback, ckpt_callback])"
      ],
      "execution_count": 34,
      "outputs": [
        {
          "output_type": "stream",
          "name": "stdout",
          "text": [
            "Created ./data_out/tf2_gpt2_naver_movie Directory\n",
            "Epoch 1/5\n",
            "4219/4219 [==============================] - ETA: 0s - loss: 0.3165 - accuracy: 0.8603\n",
            "Epoch 00001: val_accuracy improved from -inf to 0.88933, saving model to ./data_out/tf2_gpt2_naver_movie/weights.h5\n",
            "4219/4219 [==============================] - 1571s 372ms/step - loss: 0.3165 - accuracy: 0.8603 - val_loss: 0.2627 - val_accuracy: 0.8893\n",
            "Epoch 2/5\n",
            "4219/4219 [==============================] - ETA: 0s - loss: 0.2301 - accuracy: 0.9050\n",
            "Epoch 00002: val_accuracy did not improve from 0.88933\n",
            "4219/4219 [==============================] - 1568s 372ms/step - loss: 0.2301 - accuracy: 0.9050 - val_loss: 0.2656 - val_accuracy: 0.8873\n",
            "Epoch 3/5\n",
            "4219/4219 [==============================] - ETA: 0s - loss: 0.1716 - accuracy: 0.9311\n",
            "Epoch 00003: val_accuracy improved from 0.88933 to 0.89447, saving model to ./data_out/tf2_gpt2_naver_movie/weights.h5\n",
            "4219/4219 [==============================] - 1569s 372ms/step - loss: 0.1716 - accuracy: 0.9311 - val_loss: 0.2814 - val_accuracy: 0.8945\n",
            "Epoch 4/5\n",
            "4219/4219 [==============================] - ETA: 0s - loss: 0.1241 - accuracy: 0.9519\n",
            "Epoch 00004: val_accuracy did not improve from 0.89447\n",
            "4219/4219 [==============================] - 1565s 371ms/step - loss: 0.1241 - accuracy: 0.9519 - val_loss: 0.3245 - val_accuracy: 0.8910\n",
            "Epoch 5/5\n",
            "4219/4219 [==============================] - ETA: 0s - loss: 0.0904 - accuracy: 0.9657\n",
            "Epoch 00005: val_accuracy did not improve from 0.89447\n",
            "4219/4219 [==============================] - 1567s 371ms/step - loss: 0.0904 - accuracy: 0.9657 - val_loss: 0.3904 - val_accuracy: 0.8887\n"
          ]
        }
      ]
    },
    {
      "cell_type": "code",
      "metadata": {
        "id": "UGj4h0l3xGb9",
        "outputId": "bd864eef-72de-4f18-afc6-0a848f4d190f",
        "colab": {
          "base_uri": "https://localhost:8080/",
          "height": 276
        }
      },
      "source": [
        "plt.plot(history.history['loss'])\n",
        "plt.plot(history.history['val_loss'])\n",
        "plt.xlabel('Epochs')\n",
        "plt.ylabel('Loss')\n",
        "plt.legend(['loss', 'val_loss']);"
      ],
      "execution_count": 35,
      "outputs": [
        {
          "output_type": "display_data",
          "data": {
            "text/plain": [
              "<Figure size 432x288 with 1 Axes>"
            ],
            "image/png": "[encoded data removed]"
          },
          "metadata": {}
        }
      ]
    },
    {
      "cell_type": "code",
      "metadata": {
        "id": "7x-FC6BDxGcB",
        "outputId": "69ad318d-c3d8-4cff-c859-177b49faac3d",
        "colab": {
          "base_uri": "https://localhost:8080/",
          "height": 276
        }
      },
      "source": [
        "plt.plot(history.history['accuracy'])\n",
        "plt.plot(history.history['val_accuracy'])\n",
        "plt.xlabel('Epochs')\n",
        "plt.ylabel('Accuracy')\n",
        "plt.legend(['accuracy', 'val_accuracy']);"
      ],
      "execution_count": 36,
      "outputs": [
        {
          "output_type": "display_data",
          "data": {
            "text/plain": [
              "<Figure size 432x288 with 1 Axes>"
            ],
            "image/png": "[encoded data removed]"
          },
          "metadata": {}
        }
      ]
    },
    {
      "cell_type": "markdown",
      "metadata": {
        "id": "YKJx63kSxGcF"
      },
      "source": [
        "## 모델 평가"
      ]
    },
    {
      "cell_type": "code",
      "metadata": {
        "id": "VywcseLrxGcH"
      },
      "source": [
        "test_data_seqs, test_data_labels = [], []\n",
        "\n",
        "for test_seq, test_label in zip(test_data['document'].values, test_data['label'].values):\n",
        "  test_tokenized_text = vocab[tokenizer(clean_text(test_seq))]\n",
        "\n",
        "  tokens = [vocab[vocab.bos_token]]\n",
        "  tokens += pad_sequences([test_tokenized_text], MAX_LEN,\n",
        "                          value=vocab[vocab.padding_token],\n",
        "                          padding='post').tolist()[0]\n",
        "  tokens += [vocab[vocab.eos_token]] \n",
        "\n",
        "  test_data_seqs.append(tokens)\n",
        "  test_data_labels.append(test_label)\n",
        "\n",
        "test_data_seqs = np.array(test_data_seqs, dtype=np.int64)\n",
        "test_data_labels = np.array(test_data_labels, dtype=np.int64)        "
      ],
      "execution_count": 37,
      "outputs": []
    },
    {
      "cell_type": "code",
      "metadata": {
        "id": "Wj3dRljzxGcP",
        "outputId": "b2b3af14-291e-4e24-bd27-3dba3d347dbe",
        "colab": {
          "base_uri": "https://localhost:8080/"
        }
      },
      "source": [
        "cls_model.load_weights(ckpt_path)   #학습된 best 가중치 load해오기\n",
        "\n",
        "cls_model.evaluate(test_data_seqs, test_data_labels, batch_size=BATCH_SIZE)"
      ],
      "execution_count": 38,
      "outputs": [
        {
          "output_type": "stream",
          "name": "stdout",
          "text": [
            "1563/1563 [==============================] - 180s 115ms/step - loss: 0.2985 - accuracy: 0.8886\n"
          ]
        },
        {
          "output_type": "execute_result",
          "data": {
            "text/plain": [
              "[0.2984859347343445, 0.888593316078186]"
            ]
          },
          "metadata": {},
          "execution_count": 38
        }
      ]
    }
  ]
}